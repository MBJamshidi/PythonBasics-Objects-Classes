{
 "cells": [
  {
   "cell_type": "code",
   "execution_count": 1,
   "metadata": {},
   "outputs": [
    {
     "name": "stdout",
     "output_type": "stream",
     "text": [
      "Rating, before method: [12, 67, 92, 46, 18, 9, 0, 3, 232, 11]\n",
      "Rating, after method: [0, 3, 9, 11, 12, 18, 46, 67, 92, 232]\n",
      "INV, after method: [12, 67, 92, 46, 18, 9, 0, 3, 232, 11]\n",
      "INV, after method: [11, 232, 3, 0, 9, 18, 46, 92, 67, 12]\n"
     ]
    },
    {
     "data": {
      "text/plain": [
       "[11, 232, 3, 0, 9, 18, 46, 92, 67, 12]"
      ]
     },
     "execution_count": 1,
     "metadata": {},
     "output_type": "execute_result"
    }
   ],
   "source": [
    "#Python Basics\n",
    "#Objects and Classes\n",
    "\n",
    "#In this ttutorial, several examples to demonstrate objects and classes in python have been presented \n",
    "#Python has many different kinds of DATA TYPEs\n",
    "#Data types: int: 3,5, 6, 9, float: 0.089, 12.5496, 2.008, string: Behdad, Mohammad, list: [\"BMJ\", 189, 2003, 0.00675]\n",
    "#tuples: (12422, \"Python\", \"Classes\"), dictionary: {\"key1\": val1, \"key2\": val2, \"key3\": val3}\n",
    "# boolean: True, False\n",
    "\n",
    "#In python each of the mentioned type of data is an object\n",
    "#Each object has: Type, an internal data representation (a blueprint), a sets interacting with the data (methods)\n",
    "#An object is an instance (SHEIY) of a particular type \n",
    "\n",
    "#We can find the type of an object by using the command\" type ()\"\n",
    "\n",
    "#A \"class\" or \"method\" are functions that every instance  of that class or types provides\n",
    "\n",
    "#example\n",
    "#Sorting is an example of a method that interacts with the data in the object\n",
    "\n",
    "Rating=[12, 67, 92, 46, 18, 9, 0, 3, 232, 11]\n",
    "print(\"Rating, before method:\", Rating)\n",
    "#here rating is an object which is connected to method, namely sort with ()\n",
    "Rating.sort()\n",
    "print(\"Rating, after method:\", Rating)\n",
    "Rating\n",
    "\n",
    "#example\n",
    "#Reversing is an example of a method that interacts with the data in the object\n",
    "INV=[12, 67, 92, 46, 18, 9, 0, 3, 232, 11]\n",
    "print(\"INV, after method:\", INV)\n",
    "#here INV is an object which is connected to method, namely sort with ()\n",
    "INV.reverse()\n",
    "print(\"INV, after method:\", INV)\n",
    "INV\n",
    "\n",
    "#So, Object is a type of data and class or method is an operator can create change on object : \"object.method()\""
   ]
  },
  {
   "cell_type": "code",
   "execution_count": 2,
   "metadata": {},
   "outputs": [
    {
     "name": "stdout",
     "output_type": "stream",
     "text": [
      "20\n",
      "Pink\n"
     ]
    }
   ],
   "source": [
    "\n",
    "#You can creat your own type or class (method) in Python\n",
    "#Defining Classes\n",
    "#The class has data attributes. The class has methods\n",
    "#We then create an instances or instances of that class or objects\n",
    "#We define our class. We then initialize each instance of the class\n",
    "# First definition: class NameOfClass(object or class parent):\n",
    "class Circle2(object):\n",
    "    #Initialization of class:\n",
    "    #def __init__(Attribute1,Attribute2, Attribute3, ...)\n",
    "    def __init__(self, radius1, color):\n",
    "        self.radius1=radius1;\n",
    "        self.color=color;\n",
    "        #the function \"__init__\" is a constructor \n",
    "        #The ‘radius’ and ‘color’ are parameters (Attributes)\n",
    "        #The ’self’ parameter refers to the newly created instance of the class\n",
    "        #We can set the value of the radius and color data attributes \n",
    "        #to the values passed to the constructor method by self.radius(); self.color();\n",
    "\n",
    "\n",
    "#SELF:\n",
    "#It is helpful to think of self as a box \n",
    "#that this box contains all the data attributes of the object\n",
    "\n",
    "\n",
    "#Similarly, we can define the class rectangle\n",
    "class Rectangle(object):\n",
    "    def __init__(self, hight, width ,color):\n",
    "        self.hight=hight;\n",
    "        self.width=width;\n",
    "        self.color=color;  \n",
    "\n",
    "#After we have created the class, in order to create an object of class circle\n",
    "#we introduce a variable; this will be the name of the object\n",
    "# We create the object by using the object constructor\n",
    "#When we create a Circle object we call the code like a function\n",
    "\n",
    "C1=Circle2(20, \"Green\")\n",
    "#C1: the name of object\n",
    "#Circle: Name of the class\n",
    "#(10, \"red): Data Attributes (Parameters)\n",
    "#Circle(10, \"red\"): Object Constructor\n",
    "#Typing the object's name followed by a dot and the data attribute name\n",
    "# gives us the data\n",
    "C1.radius1\n",
    "#or\n",
    "print(C1.radius1)\n",
    "C2=Circle2(45, \"Pink\")\n",
    "C2.color\n",
    "#or \n",
    "print(C2.color)\n"
   ]
  },
  {
   "cell_type": "code",
   "execution_count": 3,
   "metadata": {},
   "outputs": [
    {
     "name": "stdout",
     "output_type": "stream",
     "text": [
      "35\n",
      "Methods: AIANNsMethods: AIANNsMethods: AIANNsMethods: AIANNsMethods: AIANNsMethods: AIANNsMethods: AIANNsMethods: AIANNsMethods: AIANNsMethods: AIANNsMethods: AIANNsMethods: AIANNsMethods: AIANNsMethods: AIANNsMethods: AIANNs\n",
      "GOOD\n",
      "15\n",
      "134.83333333333334\n",
      "514.0909090909091\n",
      "67\n",
      "15\n",
      "It is ok\n",
      "20\n"
     ]
    }
   ],
   "source": [
    "#exaple 1\n",
    "class CLASS1(object):\n",
    "    #Initialization of class:\n",
    "    #def __init__(Attribute1,Attribute2, Attribute3, ...)\n",
    "    def __init__(self, obj1, objSt2, obj3, obj4):\n",
    "        self.obj1=(obj1*2)+10+obj4;\n",
    "        self.objSt2=(objSt2+\" AI\"+\"ANNs\")*obj4;\n",
    "        self.obj3=obj3;\n",
    "        self.obj4=obj4;\n",
    "\n",
    "        #the function \"__init__\" is a constructor \n",
    "\n",
    "v1=CLASS1(5,\"Methods:\", \"GOOD\", 15)\n",
    "print(v1.obj1)\n",
    "print(v1.objSt2)\n",
    "print(v1.obj3)\n",
    "print(v1.obj4)\n",
    "\n",
    "\n",
    "#example 2\n",
    "class RobotControl(object):\n",
    "    #Initialization of class:\n",
    "    #def __init__(Attribute1,Attribute2, Attribute3, ...)\n",
    "    def __init__(self, obj1, obj2, obj3, obj4):\n",
    "        aws=obj1/obj4+19.5\n",
    "        sw=256/obj2\n",
    "        self.obj1=(obj1*2)+90+obj4+aws;\n",
    "        self.obj2=(obj2+sw)*obj4;\n",
    "        self.obj3=obj3;\n",
    "        self.obj4=obj4;\n",
    "\n",
    "        #the function \"__init__\" is a constructor \n",
    "        \n",
    "v1=RobotControl(5,11,67, 15)\n",
    "print(v1.obj1)\n",
    "print(v1.obj2)\n",
    "print(v1.obj3)\n",
    "print(v1.obj4)\n",
    "\n",
    "\n",
    "#example 2\n",
    "class PrintingStorage(object):\n",
    "    #Initialization of class:\n",
    "    #def __init__(Attribute1,Attribute2, Attribute3, ...)\n",
    "    def __init__(self, obj1):\n",
    "        m1=\"It is full\"\n",
    "        m2=\"It needs to be recounted\"\n",
    "        m3=\"It is ok\"\n",
    "        if obj1>12:\n",
    "            print(m1)\n",
    "            self.obj1=obj1/2;\n",
    "        else:\n",
    "            self.obj1=obj1*2;\n",
    "            print(m3)\n",
    "        \n",
    "        #the function \"__init__\" is a constructor \n",
    "        \n",
    "v1=PrintingStorage(10)\n",
    "print(v1.obj1)\n"
   ]
  },
  {
   "cell_type": "code",
   "execution_count": 4,
   "metadata": {},
   "outputs": [
    {
     "name": "stdout",
     "output_type": "stream",
     "text": [
      "It is full\n",
      "self.obj1 is:  15.0\n",
      "50\n"
     ]
    }
   ],
   "source": [
    "#Setting or Changing the data attribute\n",
    "#In Python, we can also set or change the data attribute directly\n",
    "\n",
    "\n",
    "class PrintingStorage(object):\n",
    "    def __init__(self, obj1):\n",
    "        m1=\"It is full\"\n",
    "        m2=\"It needs to be recounted\"\n",
    "        m3=\"It is ok\"\n",
    "        if (obj1>20):\n",
    "            print(m1)\n",
    "            self.obj1=obj1/2;\n",
    "            print(\"self.obj1 is: \", self.obj1)\n",
    "        elif (obj1<=220)and(obj1>10):\n",
    "            print(m2)\n",
    "            self.obj1=obj1;\n",
    "            print(\"self.obj1 is: \", self.obj1)\n",
    "        else:\n",
    "            self.obj1=obj1*1.5;\n",
    "            print(m3)\n",
    "            print(\"self.obj1 is: \", self.obj1)\n",
    "        \n",
    "#Typing the object's name, followed by a dot and the data attribute name,\n",
    "#and set it equal to the corresponding value        \n",
    "PS1=PrintingStorage(30)\n",
    "PS1.obj1=50\n",
    "print(PS1.obj1)\n"
   ]
  },
  {
   "cell_type": "code",
   "execution_count": 5,
   "metadata": {},
   "outputs": [
    {
     "name": "stdout",
     "output_type": "stream",
     "text": [
      "12\n"
     ]
    },
    {
     "data": {
      "text/plain": [
       "(19, 28)"
      ]
     },
     "execution_count": 5,
     "metadata": {},
     "output_type": "execute_result"
    }
   ],
   "source": [
    "#Methods\n",
    "#Methods are functions that interact and change the data attributes, changing or using the data attributes of the object\n",
    "\n",
    "class Rectangle(object):\n",
    "    #We can add default values to the parameters\n",
    "    #If you indicate any value, that value is on priority than the default one\n",
    "    def __init__(self, hight=14, width=7 ,color=\"green\"):\n",
    "        self.hight=hight;\n",
    "        self.width=width;\n",
    "        self.color=color;  \n",
    "        #Let's say we would like to change the size of a rectangle\n",
    "        #this involves changing the hight, width attribute\n",
    "        #We add a method \"add Dimensions\" to the class Rectangle\n",
    "        #IT IS SO IMPORTANT\n",
    "        #IT IS SO IMPORTANT\n",
    "        #When you use a object from the class you should write ((self.object)) in the method\n",
    "    def Add_Dim(self,h, w):\n",
    "        #When you use a object from the class you should write ((self.object)) in the method\n",
    "        self.hight=self.hight+h\n",
    "        #When you use a object from the class you should write ((self.object)) in the method\n",
    "        self.width=self.width+w\n",
    "        return(self.hight, self.width)\n",
    "#As before, we create an object with the object constructor\n",
    "Rec=Rectangle(12,25,\"Yellow\")\n",
    "print(Rec.hight)\n",
    "Rec.Add_Dim(7, 3)\n",
    "                    "
   ]
  },
  {
   "cell_type": "code",
   "execution_count": 6,
   "metadata": {},
   "outputs": [
    {
     "name": "stdout",
     "output_type": "stream",
     "text": [
      "make:  BMW\n",
      "model: X6\n",
      "color: Blue\n",
      "number of owners: 0\n",
      "None\n"
     ]
    }
   ],
   "source": [
    "#More examples\n",
    "class Car(object):\n",
    "    def __init__(self,make,model,color):\n",
    "        self.make=make;\n",
    "        self.model=model;\n",
    "        self.color=color;\n",
    "        self.owner_number=0 \n",
    "    def car_info(self):\n",
    "        print(\"make: \",self.make)\n",
    "        print(\"model:\", self.model)\n",
    "        print(\"color:\",self.color)\n",
    "        print(\"number of owners:\",self.owner_number)\n",
    "    def sell(self):\n",
    "        self.owner_number=self.owner_number+1\n",
    "BMW1=Car(\"BMW\", \"X6\", \"Blue\")\n",
    "print(BMW1.car_info())\n",
    "\n",
    "#print(BMW1.sell())"
   ]
  }
 ],
 "metadata": {
  "kernelspec": {
   "display_name": "Python 3",
   "language": "python",
   "name": "python3"
  },
  "language_info": {
   "codemirror_mode": {
    "name": "ipython",
    "version": 3
   },
   "file_extension": ".py",
   "mimetype": "text/x-python",
   "name": "python",
   "nbconvert_exporter": "python",
   "pygments_lexer": "ipython3",
   "version": "3.7.6"
  }
 },
 "nbformat": 4,
 "nbformat_minor": 4
}
